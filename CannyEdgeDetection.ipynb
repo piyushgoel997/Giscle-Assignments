{
 "cells": [
  {
   "cell_type": "code",
   "execution_count": 5,
   "metadata": {
    "collapsed": true
   },
   "outputs": [],
   "source": [
    "import cv2"
   ]
  },
  {
   "cell_type": "code",
   "execution_count": 6,
   "metadata": {
    "collapsed": true
   },
   "outputs": [],
   "source": [
    "img = cv2.imread('image1.jpg')"
   ]
  },
  {
   "cell_type": "code",
   "execution_count": 7,
   "metadata": {
    "collapsed": true
   },
   "outputs": [],
   "source": [
    "def nothing(x):\n",
    "    pass"
   ]
  },
  {
   "cell_type": "code",
   "execution_count": 9,
   "metadata": {
    "collapsed": false
   },
   "outputs": [],
   "source": [
    "switch = '0 : OFF \\n1 : ON'\n",
    "cv2.namedWindow('canny')\n",
    "cv2.createTrackbar(switch, 'canny', 0, 1, nothing)\n",
    "\n",
    "cv2.createTrackbar('lower', 'canny', 0, 255, nothing)\n",
    "cv2.createTrackbar('upper', 'canny', 0, 255, nothing)\n",
    "\n",
    "# Infinite loop until we hit the escape key on keyboard\n",
    "while(1):\n",
    "\n",
    "    # get current positions of four trackbars\n",
    "    lower = cv2.getTrackbarPos('lower', 'canny')\n",
    "    upper = cv2.getTrackbarPos('upper', 'canny')\n",
    "    s = cv2.getTrackbarPos(switch, 'canny')\n",
    "\n",
    "    if s == 0:\n",
    "        edges = image\n",
    "    else:\n",
    "        edges = cv2.Canny(image, lower, upper)\n",
    "\n",
    "    # display images\n",
    "    cv2.imshow('canny', edges)\n",
    "    k = cv2.waitKey(1) & 0xFF\n",
    "    if k == 27:   # hit escape to quit\n",
    "        cv2.imwrite(\"OutputImages/Canny.jpg\", edges)\n",
    "        break\n",
    "cv2.destroyAllWindows()"
   ]
  },
  {
   "cell_type": "code",
   "execution_count": null,
   "metadata": {
    "collapsed": true
   },
   "outputs": [],
   "source": []
  }
 ],
 "metadata": {
  "kernelspec": {
   "display_name": "Python (deeplearning)",
   "language": "python",
   "name": "deeplearning"
  },
  "language_info": {
   "codemirror_mode": {
    "name": "ipython",
    "version": 3
   },
   "file_extension": ".py",
   "mimetype": "text/x-python",
   "name": "python",
   "nbconvert_exporter": "python",
   "pygments_lexer": "ipython3",
   "version": "3.5.4"
  }
 },
 "nbformat": 4,
 "nbformat_minor": 2
}
