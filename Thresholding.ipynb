{
 "cells": [
  {
   "cell_type": "code",
   "execution_count": 1,
   "metadata": {
    "collapsed": true
   },
   "outputs": [],
   "source": [
    "import cv2\n",
    "import numpy as np"
   ]
  },
  {
   "cell_type": "code",
   "execution_count": 2,
   "metadata": {
    "collapsed": true
   },
   "outputs": [],
   "source": [
    "def nothing(x):\n",
    "    pass"
   ]
  },
  {
   "cell_type": "code",
   "execution_count": 3,
   "metadata": {
    "collapsed": false
   },
   "outputs": [],
   "source": [
    "image_org = cv2.imread('image1.jpg')\n",
    "image = cv2.cvtColor(image_org,cv2.COLOR_RGB2GRAY)"
   ]
  },
  {
   "cell_type": "code",
   "execution_count": null,
   "metadata": {
    "collapsed": false
   },
   "outputs": [],
   "source": [
    "maxval = 255\n",
    "thresh=0\n",
    "type_thresh = 2\n",
    "cv2.namedWindow(\"Adjust\",cv2.WINDOW_AUTOSIZE); #Threshold settings window\n",
    "cv2.createTrackbar(\"Thresh\", \"Adjust\", thresh, 200, nothing);\n",
    "cv2.createTrackbar(\"Max\", \"Adjust\", maxval, 255, nothing);\n",
    "\n",
    "#Threshold methods correspond integer numbers in OpenCV Library,(binary threshold,otsu threshold etc)\n",
    "#And threshold methods summable with each other like; cv2.BINARY_THRESH + cv2.OTSU_THRESH or 1 + 4\n",
    "cv2.createTrackbar(\"Type\", \"Adjust\", type_thresh, 4, nothing); \n",
    "\n",
    "Threshold = np.zeros(image.shape, np.uint8)\n",
    "\n",
    "# Infinite loop until we hit the escape key on keyboard\n",
    "while 1:\n",
    "    thresh = cv2.getTrackbarPos('Thresh', 'Adjust')\n",
    "    maxval = cv2.getTrackbarPos('Max', 'Adjust')\n",
    "    type_thresh = cv2.getTrackbarPos('Type', 'Adjust')\n",
    "    retval,Threshold = cv2.threshold(image,thresh,maxval,type_thresh)\n",
    "    # display images\n",
    "    cv2.imshow('Adjust', Threshold)\n",
    "    cv2.imshow('Original', image_org)\n",
    "    cv2.imwrite(\"OutputImages/Threshold\" + str(type_thresh) + \".jpg\", Threshold)\n",
    "    k = cv2.waitKey(1) & 0xFF\n",
    "    if k == 27:   # hit escape to quit\n",
    "        break\n",
    "        \n",
    "cv2.destroyAllWindows()"
   ]
  },
  {
   "cell_type": "code",
   "execution_count": null,
   "metadata": {
    "collapsed": true
   },
   "outputs": [],
   "source": []
  }
 ],
 "metadata": {
  "kernelspec": {
   "display_name": "Python (deeplearning)",
   "language": "python",
   "name": "deeplearning"
  },
  "language_info": {
   "codemirror_mode": {
    "name": "ipython",
    "version": 3
   },
   "file_extension": ".py",
   "mimetype": "text/x-python",
   "name": "python",
   "nbconvert_exporter": "python",
   "pygments_lexer": "ipython3",
   "version": "3.5.4"
  }
 },
 "nbformat": 4,
 "nbformat_minor": 2
}
