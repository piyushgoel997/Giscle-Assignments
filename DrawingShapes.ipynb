{
 "cells": [
  {
   "cell_type": "code",
   "execution_count": 6,
   "metadata": {
    "collapsed": true
   },
   "outputs": [],
   "source": [
    "import cv2"
   ]
  },
  {
   "cell_type": "code",
   "execution_count": 7,
   "metadata": {
    "collapsed": false
   },
   "outputs": [],
   "source": [
    "img = cv2.imread(\"image1.jpg\", -1)\n",
    "line=cv2.line(img,(0,0),(511,511),(255,0,0),5)# Here the parameters are objectname,starting & ending coordinate,color,thickness\n",
    "cv2.imshow(\"Display\",line)\n",
    "cv2.imwrite(\"OutputImages/LINEONIMAGE.jpg\",line)\n",
    "cv2.waitKey(0)\n",
    "cv2.destroyAllWindows()"
   ]
  },
  {
   "cell_type": "code",
   "execution_count": 8,
   "metadata": {
    "collapsed": true
   },
   "outputs": [],
   "source": [
    "img = cv2.imread(\"image1.jpg\", -1)\n",
    "rect=cv2.rectangle(img,(84,0),(10,28),(0,255,0),1)\n",
    "cv2.imshow(\"Display\",rect)\n",
    "cv2.imwrite(\"OutputImages/RECTONIMAGE.jpg\",rect)\n",
    "cv2.waitKey(0)\n",
    "cv2.destroyAllWindows()"
   ]
  },
  {
   "cell_type": "code",
   "execution_count": 13,
   "metadata": {
    "collapsed": false
   },
   "outputs": [],
   "source": [
    "img = cv2.imread(\"image1.jpg\", -1)\n",
    "circle=cv2.circle(img,(47,63), 63, (0,0,255), 1)\n",
    "cv2.imshow(\"Display\",circle)\n",
    "#cv2.imwrite(\"OutputImages/CIRCLEONIMAGE.jpg\",circle)\n",
    "cv2.imwrite(\"OutputImages/CIRCLEWITHTHICKNESS.jpg\",circle)\n",
    "cv2.waitKey(0)\n",
    "cv2.destroyAllWindows()"
   ]
  },
  {
   "cell_type": "code",
   "execution_count": 10,
   "metadata": {
    "collapsed": true
   },
   "outputs": [],
   "source": [
    "img = cv2.imread(\"image1.jpg\", -1)\n",
    "el=cv2.ellipse(img,(56,56),(10,50),0,0,180,255,1) \n",
    "cv2.imshow(\"Display\",el)\n",
    "cv2.imwrite(\"OutputImages/ELLIPSEONIMAGE.jpg\",el)\n",
    "cv2.waitKey(0)\n",
    "cv2.destroyAllWindows()"
   ]
  },
  {
   "cell_type": "code",
   "execution_count": 11,
   "metadata": {
    "collapsed": true
   },
   "outputs": [],
   "source": [
    "img = cv2.imread(\"image1.jpg\", -1)\n",
    "font = cv2.FONT_HERSHEY_SIMPLEX\n",
    "txt=cv2.putText(img,'OpenCV',(20,50), font, 4,(201,220,220),8,cv2.LINE_AA)#cv2.LINE_AA is for anti-aliasing.It is optional\n",
    "cv2.imshow(\"Display\",txt)\n",
    "cv2.imwrite(\"OutputImages/TEXTONIMAGE.jpg\",txt)\n",
    "cv2.waitKey(0)\n",
    "cv2.destroyAllWindows()"
   ]
  },
  {
   "cell_type": "code",
   "execution_count": null,
   "metadata": {
    "collapsed": true
   },
   "outputs": [],
   "source": []
  }
 ],
 "metadata": {
  "kernelspec": {
   "display_name": "Python (deeplearning)",
   "language": "python",
   "name": "deeplearning"
  },
  "language_info": {
   "codemirror_mode": {
    "name": "ipython",
    "version": 3
   },
   "file_extension": ".py",
   "mimetype": "text/x-python",
   "name": "python",
   "nbconvert_exporter": "python",
   "pygments_lexer": "ipython3",
   "version": "3.5.4"
  }
 },
 "nbformat": 4,
 "nbformat_minor": 2
}
